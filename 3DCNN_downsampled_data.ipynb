{
 "cells": [
  {
   "cell_type": "markdown",
   "id": "2749bd9b-db94-405e-9c9e-3f476c9f9532",
   "metadata": {},
   "source": [
    "# This will train a 3D-CNN with the downsampled full brain dataset.\n",
    "## TODO: adapt this to the ROI dataset !!"
   ]
  },
  {
   "cell_type": "code",
   "execution_count": 1,
   "id": "faf2b5e2-a671-4d84-b45d-529f759edaff",
   "metadata": {},
   "outputs": [],
   "source": [
    "from torch import nn\n",
    "import torch\n",
    "import torch.optim as optim\n",
    "from tqdm import *\n",
    "import matplotlib.pyplot as plt\n",
    "from kornia.losses import focal # pip3 install kornia will be required\n",
    "import numpy as np\n",
    "from sklearn import metrics\n",
    "from pathlib import Path\n",
    "import pandas as pd\n",
    "import nibabel as nib\n",
    "import matplotlib.pyplot as plt\n",
    "import seaborn as sns\n",
    "import numpy as np\n",
    "from tqdm.notebook import tqdm\n",
    "import warnings\n",
    "warnings.filterwarnings(\"ignore\")\n",
    "from sklearn import metrics\n",
    "from sklearn.model_selection import train_test_split\n",
    "from sklearn.metrics import confusion_matrix, classification_report"
   ]
  },
  {
   "cell_type": "markdown",
   "id": "36cf9c86-ec9b-4811-b19f-0361183ce311",
   "metadata": {},
   "source": [
    "#### 1) Loading the dataset"
   ]
  },
  {
   "cell_type": "code",
   "execution_count": 2,
   "id": "aa882f4a-3725-498d-9aeb-219f92b912d9",
   "metadata": {},
   "outputs": [],
   "source": [
    "# Load the already computed downsampled dataset\n",
    "\n",
    "downsample_size = 10#50 # the biggest it is, the smaller the brain 3D snapshots are.\n",
    "\n",
    "data_base = Path(\"/home/jovyan/shared/NSD\")\n",
    "curr_subj = \"subj01\"\n",
    "subj_behav_file = data_base / f\"nsddata/ppdata/{curr_subj}/behav/responses.tsv\"\n",
    "subj_behav = pd.read_csv(subj_behav_file, delimiter=\"\\t\")\n",
    "\n",
    "# add within session iteration indices\n",
    "for sess_id in range(1, 37+1):\n",
    "    subj_behav.loc[subj_behav[\"SESSION\"]==sess_id, \"INSESSIONIDX\"] = list(range(1, 750+1))\n",
    "    \n",
    "\n",
    "subj_behav_sel = subj_behav.dropna(subset=[\"BUTTON\"])\n",
    "subj_behav_sel = subj_behav_sel[~subj_behav_sel[\"SESSION\"].isin([38, 39, 40])]\n",
    "\n",
    "\n",
    "# take the first saved data\n",
    "betas = np.load(\"./nsd-data/MTL_downsampled_\"+str(downsample_size)+\"_full.npy\")\n",
    "betas = betas.reshape((betas.shape[3],betas.shape[0],betas.shape[1],betas.shape[2] ))\n",
    "\n",
    "X = betas[subj_behav_sel.index, :] / 300\n",
    "y = subj_behav_sel[\"ISOLDCURRENT\"].to_numpy()\n",
    "\n",
    "#print(X.shape)"
   ]
  },
  {
   "cell_type": "code",
   "execution_count": 3,
   "id": "8296e4af-e6fc-43b3-a289-0e5681c3f926",
   "metadata": {},
   "outputs": [],
   "source": [
    "X_train, X_test, y_train, y_test = train_test_split(X, y, test_size=0.33, random_state=42)"
   ]
  },
  {
   "cell_type": "markdown",
   "id": "1eddb375-846b-43f7-ac3b-24e348395a82",
   "metadata": {},
   "source": [
    "#### 2) Build the 3D-CNN "
   ]
  },
  {
   "cell_type": "code",
   "execution_count": 9,
   "id": "cb614b31-aaa7-4649-8ed7-8bd1b7506d7a",
   "metadata": {},
   "outputs": [
    {
     "name": "stdout",
     "output_type": "stream",
     "text": [
      "\n",
      "================== 3D-CNN classifier ====================\n",
      "\n"
     ]
    }
   ],
   "source": [
    "\n",
    "\n",
    "\n",
    "\n",
    "print(\"\\n================== 3D-CNN classifier ====================\\n\")\n",
    "\n",
    "input_dims = [X.shape[1],X.shape[2],X.shape[3]]\n",
    "train_dataset_size = X_train.shape[0]\n",
    "test_dataset_size = X_test.shape[0]\n",
    "train_dataset_ids = [i for i in range(train_dataset_size)]\n",
    "minibatch_size = 32\n",
    "\n",
    "\n",
    "# ======= model creation\n",
    "\n",
    "#torch.nn.Conv3d(in_channels, out_channels, kernel_size, stride=1, padding=0, dilation=1, groups=1, bias=True, padding_mode='zeros', device=None, dtype=None)\n",
    "\n",
    "model = nn.Sequential(\n",
    "    nn.Conv3d(1,8, 5), #input_nb_channels=1, output_nb_channels=1, kernel size\n",
    "    nn.SELU(),\n",
    "    nn.Conv3d(8,16,3),\n",
    "    nn.SELU(),\n",
    "    nn.Dropout(p=0.5),\n",
    "    nn.Conv3d(16,32,3),\n",
    "    nn.SELU(),\n",
    "    nn.Dropout(p=0.5),\n",
    "    nn.Flatten(),\n",
    "    # resampled 25 version\n",
    "    nn.Linear(96, 2), # Output size of the previous layer, output size = 1 (probability)\n",
    "    # all 125 version\n",
    "    # nn.Linear(238, 2), # Output size of the previous layer, output size = 1 (probability)\n",
    "    #nn.Dropout(),\n",
    "    nn.Softmax(dim=1)\n",
    "    # nn.Linear(238, 1), # Output size of the previous layer, output size = 1 (probability)\n",
    "    # nn.Sigmoid() # proba\n",
    ")\n",
    "\n",
    "\n",
    "#========== hyperparameters (optuna)\n",
    "\n",
    "#lr, w_decay = 3e-4, 0.0 # TODO change\n",
    "w_decay = 0.0\n",
    "#lr = 0.0002211315921746536 # optuna results\n",
    "lr = 1e-3\n",
    "#gamma = 30#30#100#5#100.0#10.0 any gamma value seems to work /!\\ the biggest gamma is, the more weight is given to less present data (ie true positive)\n",
    "# 5 is too small (no true positive); but 100 is too high (not enough true negatives)\n",
    "gamma = 36.41489981311975 # optuna results\n",
    "alpha = 1.0#1.0#1.0 works#0.5 works #0.0 does not work\n",
    "'''\n",
    "alpha: Weighting factor :math:`\\alpha \\in [0, 1]`.\n",
    "        gamma: Focusing parameter :math:`\\gamma >= 0`.\n",
    "'''\n",
    "\n",
    "# ==== optimizer & loss function\n",
    "optimizer = optim.Adam(model.parameters(), lr = lr, weight_decay= w_decay)\n",
    "# Loss = nn.BCEWithLogitsLoss()\n",
    "\n",
    "\n"
   ]
  },
  {
   "cell_type": "markdown",
   "id": "40fe21c9-d688-4e45-bbab-0d5bdeca63ce",
   "metadata": {},
   "source": [
    "print(X_train.shape)\n",
    "indices = [2,543, 900]\n",
    "minibatch_X = X_train[indices, :,:,:]\n",
    "print(minibatch_X.shape)\n",
    "print(y_train.shape)\n",
    "print(y_train[indices])\n",
    "print(y_train[:5])"
   ]
  },
  {
   "cell_type": "code",
   "execution_count": 10,
   "id": "984dab61-6287-47dc-bd11-40712f5adeab",
   "metadata": {},
   "outputs": [
    {
     "data": {
      "application/vnd.jupyter.widget-view+json": {
       "model_id": "27aae29c044a431daa6642a7aee5a42b",
       "version_major": 2,
       "version_minor": 0
      },
      "text/plain": [
       "  0%|          | 0/2000 [00:00<?, ?it/s]"
      ]
     },
     "metadata": {},
     "output_type": "display_data"
    },
    {
     "data": {
      "image/png": "[encoded data removed]",
      "text/plain": [
       "<Figure size 432x288 with 1 Axes>"
      ]
     },
     "metadata": {
      "needs_background": "light"
     },
     "output_type": "display_data"
    }
   ],
   "source": [
    "\n",
    "# ==== training loop\n",
    "losses = []\n",
    "scores = []\n",
    "epochs = 2000\n",
    "# epochs = 1000\n",
    "# epochs = 200\n",
    "pbar = tqdm(range(epochs))\n",
    "for epoch in pbar:\n",
    "    pbar.set_description(str(epoch))\n",
    "\n",
    "    # 1) fetch minibatch\n",
    "    minibatch_ids = np.random.choice(train_dataset_ids, size=minibatch_size)\n",
    "    \n",
    "    #minibatch_list = []\n",
    "    #minibatch_labels_list = []\n",
    "    #for id in minibatch_ids:\n",
    "        #minibatch_list.append(dataset['X'][id])\n",
    "        #minibatch_labels_list.append(dataset['y'][id])\n",
    "        \n",
    "    \n",
    "    minibatch_X = X_train[minibatch_ids, :,:,:]\n",
    "    minibatch_y = y_train[minibatch_ids]\n",
    "    \n",
    "\n",
    "    minibatch_tensor_input = torch.tensor(minibatch_X ).float().reshape(minibatch_size, 1, input_dims[0], input_dims[1], input_dims[2]) # the additional 1 = number of input channels\n",
    "    minibatch_tensor_labels = torch.tensor(minibatch_y).reshape(minibatch_size, 1)\n",
    "    \n",
    "    # print(minibatch_tensor_labels.size())\n",
    "    # print(minibatch_tensor_labels)\n",
    "\n",
    "    # 2) get outputs probabilities (target, non target)\n",
    "    minibatch_tensor_output = model(minibatch_tensor_input)\n",
    "    #print(minibatch_tensor_output)\n",
    "    # print(minibatch_tensor_output.size())\n",
    "\n",
    "    #3) compute loss function\n",
    "    # print(minibatch_tensor_output.reshape(minibatch_size), minibatch_tensor_labels.reshape(minibatch_size))\n",
    "    # print(minibatch_tensor_output, minibatch_tensor_labels)\n",
    "    optimizer.zero_grad()\n",
    "\n",
    "\n",
    "    loss = focal.focal_loss(minibatch_tensor_output, minibatch_tensor_labels.reshape(minibatch_size), alpha=alpha, gamma=gamma).mean() # works\n",
    "    # print(loss)\n",
    "    losses.append(loss.detach())\n",
    "    loss.backward()\n",
    "    torch.nn.utils.clip_grad_norm_(model.parameters(), max_norm=1e-2) # avoid exploding gradients\n",
    "    optimizer.step()\n",
    "\n",
    "\n",
    "    # === compute scores TODO remove !!! OR SET IT ON A TEST SET !!!\n",
    "    estimations = torch.argmax(minibatch_tensor_output, dim=1)\n",
    "    #print(estimations)\n",
    "    #print(minibatch_tensor_labels.reshape(minibatch_size))\n",
    "    score = -sum(torch.pow(estimations - minibatch_tensor_labels.reshape(minibatch_size), 2)) # a perfect score is equal to 0, a bad score is very negative\n",
    "    #print(score)\n",
    "    scores.append(score)\n",
    "\n",
    "\n",
    "plt.plot(losses, label='focal loss')\n",
    "plt.plot(scores, label='scores')\n",
    "plt.legend()\n",
    "plt.show()\n",
    "\n",
    "\n"
   ]
  },
  {
   "cell_type": "code",
   "execution_count": 11,
   "id": "e2af8c9a-e568-48c3-860b-b66dbb12e146",
   "metadata": {},
   "outputs": [
    {
     "data": {
      "image/png": "[encoded data removed]",
      "text/plain": [
       "<Figure size 432x288 with 1 Axes>"
      ]
     },
     "metadata": {
      "needs_background": "light"
     },
     "output_type": "display_data"
    },
    {
     "name": "stdout",
     "output_type": "stream",
     "text": [
      "--> roc_auc:  0.49469000159497994\n"
     ]
    }
   ],
   "source": [
    "\n",
    "# =============== END OF TRAINING PERFORMANCES = see performances on testing set TODO adapt\n",
    "# 1) fetch test data\n",
    "test_tensor_input = torch.tensor(X_test).float().reshape(test_dataset_size, 1, input_dims[0], input_dims[1],\n",
    "                                                             input_dims[2])\n",
    "test_tensor_labels = torch.tensor(y_test).reshape(test_dataset_size, 1)\n",
    "\n",
    "\n",
    "# 2) get outputs probabilities (target, non target)\n",
    "model.eval() # disable dropout for test time\n",
    "with torch.no_grad():\n",
    "    test_tensor_output = model(test_tensor_input)\n",
    "\n",
    "# === compute scores TODO remove !!! OR SET IT ON A TEST SET !!!\n",
    "y_pred = torch.argmax(test_tensor_output, dim=1)\n",
    "\n",
    "\n",
    "# --- Plot ROC curve\n",
    "fpr, tpr, thresholds = metrics.roc_curve(test_tensor_labels.numpy().flatten(),y_pred.numpy(), pos_label=1)\n",
    "roc_auc = metrics.auc(fpr, tpr)\n",
    "display = metrics.RocCurveDisplay(fpr=fpr, tpr=tpr, roc_auc=roc_auc,estimator_name='example estimator')\n",
    "display.plot()\n",
    "plt.show()\n",
    "print(\"--> roc_auc: \", roc_auc)"
   ]
  },
  {
   "cell_type": "code",
   "execution_count": 12,
   "id": "ffa3dbe9-ad01-46f2-997a-237ffe5784db",
   "metadata": {},
   "outputs": [
    {
     "data": {
      "text/plain": [
       "array([[6403,  593],\n",
       "       [1998,  160]])"
      ]
     },
     "execution_count": 12,
     "metadata": {},
     "output_type": "execute_result"
    }
   ],
   "source": [
    "conf_mat = confusion_matrix(y_test, y_pred)\n",
    "# Thus in binary classification, the count of true negatives is C00, false negatives is C1O , true positives is C11 and false positives is C01 .\n",
    "conf_mat"
   ]
  },
  {
   "cell_type": "code",
   "execution_count": 13,
   "id": "6c3a1812-5297-40a1-a20d-fbf4f55bc00b",
   "metadata": {},
   "outputs": [
    {
     "name": "stdout",
     "output_type": "stream",
     "text": [
      "{'0': {'precision': 0.7621711700987978, 'recall': 0.9152372784448256, 'f1-score': 0.8317204650256543, 'support': 6996}, '1': {'precision': 0.21248339973439576, 'recall': 0.07414272474513438, 'f1-score': 0.10992785984197868, 'support': 2158}, 'accuracy': 0.7169543369019008, 'macro avg': {'precision': 0.48732728491659677, 'recall': 0.49469000159498, 'f1-score': 0.47082416243381653, 'support': 9154}, 'weighted avg': {'precision': 0.6325856109501874, 'recall': 0.7169543369019008, 'f1-score': 0.6615622345268153, 'support': 9154}}\n",
      "--> Accuraccy:  0.7169543369019008\n"
     ]
    }
   ],
   "source": [
    "\n",
    "\n",
    "cr = classification_report(y_test, y_pred, output_dict=True)\n",
    "print(cr)\n",
    "print('--> Accuraccy: ', cr['accuracy'])\n"
   ]
  },
  {
   "cell_type": "code",
   "execution_count": null,
   "id": "a58f6944-e4e6-4e07-b704-c73a248d46ee",
   "metadata": {},
   "outputs": [],
   "source": []
  }
 ],
 "metadata": {
  "kernelspec": {
   "display_name": "Python 3 (ipykernel)",
   "language": "python",
   "name": "python3"
  },
  "language_info": {
   "codemirror_mode": {
    "name": "ipython",
    "version": 3
   },
   "file_extension": ".py",
   "mimetype": "text/x-python",
   "name": "python",
   "nbconvert_exporter": "python",
   "pygments_lexer": "ipython3",
   "version": "3.7.12"
  }
 },
 "nbformat": 4,
 "nbformat_minor": 5
}
