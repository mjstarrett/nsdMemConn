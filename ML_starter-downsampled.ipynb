{
 "cells": [
  {
   "cell_type": "code",
   "execution_count": 56,
   "id": "52043136-7a28-4022-9788-dd546c2c4d57",
   "metadata": {},
   "outputs": [],
   "source": [
    "from pathlib import Path\n",
    "import pandas as pd\n",
    "import nibabel as nib\n",
    "import matplotlib.pyplot as plt\n",
    "import seaborn as sns\n",
    "import numpy as np\n",
    "from tqdm.notebook import tqdm\n",
    "import warnings\n",
    "warnings.filterwarnings(\"ignore\")\n",
    "from sklearn import metrics"
   ]
  },
  {
   "cell_type": "code",
   "execution_count": 57,
   "id": "421fe301-1ecd-4d6a-85fd-051dad3e8b1e",
   "metadata": {},
   "outputs": [],
   "source": [
    "#data_base = Path(\"shared/NSD\")\n",
    "data_base = Path(\"/home/jovyan/shared/NSD\")\n",
    "curr_subj = \"subj01\"\n",
    "subj_behav_file = data_base / f\"nsddata/ppdata/{curr_subj}/behav/responses.tsv\"\n",
    "subj_behav = pd.read_csv(subj_behav_file, delimiter=\"\\t\")"
   ]
  },
  {
   "cell_type": "code",
   "execution_count": 58,
   "id": "81f4a0f6-921b-485f-b5e8-186c7346d43f",
   "metadata": {},
   "outputs": [],
   "source": [
    "# add within session iteration indices\n",
    "for sess_id in range(1, 37+1):\n",
    "    subj_behav.loc[subj_behav[\"SESSION\"]==sess_id, \"INSESSIONIDX\"] = list(range(1, 750+1))\n",
    "    \n",
    "\n",
    "subj_behav_sel = subj_behav.dropna(subset=[\"BUTTON\"])\n",
    "subj_behav_sel = subj_behav_sel[~subj_behav_sel[\"SESSION\"].isin([38, 39, 40])]\n",
    "#print(len(subj_behav_sel))\n",
    "#print(subj_behav_sel.index)\n"
   ]
  },
  {
   "cell_type": "code",
   "execution_count": 59,
   "id": "1279b61a-e6a3-42c6-9d79-2f1537282f35",
   "metadata": {},
   "outputs": [
    {
     "name": "stdout",
     "output_type": "stream",
     "text": [
      "(9, 11, 9, 27750, 1)\n",
      "(27750, 9, 11, 9)\n"
     ]
    }
   ],
   "source": [
    "downsample_size = 10#50\n",
    "\n",
    "# take the first saved data\n",
    "#betas = np.load(\"./nsd-data/MTL-1_full.npy\")\n",
    "#betas = np.load(\"./nsd-data/MTL_downsampled_full.npy\")\n",
    "betas = np.load(\"./nsd-data/MTL_downsampled_\"+str(downsample_size)+\"_full.npy\")\n",
    "print(betas.shape)\n",
    "betas = betas.reshape((betas.shape[3],betas.shape[0],betas.shape[1],betas.shape[2] ))\n",
    "print(betas.shape)\n"
   ]
  },
  {
   "cell_type": "code",
   "execution_count": 60,
   "id": "e2f91afb-17be-4bf5-9e35-66cc39d8fc27",
   "metadata": {},
   "outputs": [
    {
     "name": "stdout",
     "output_type": "stream",
     "text": [
      "(27739, 9, 11, 9)\n"
     ]
    }
   ],
   "source": [
    "\n",
    "\n",
    "X = betas[subj_behav_sel.index, :] / 300\n",
    "y = subj_behav_sel[\"ISOLDCURRENT\"].to_numpy()\n",
    "\n",
    "print(X.shape)"
   ]
  },
  {
   "cell_type": "markdown",
   "id": "2f327329-3fab-4267-bfa1-324aac55d2f5",
   "metadata": {},
   "source": [
    "# The code above can be reused directly for 3D-CNN. For other methods like CSV, flattenof 3D array is required"
   ]
  },
  {
   "cell_type": "code",
   "execution_count": 61,
   "id": "072dbf1e-b9b8-49ed-b8f8-0973f60059b3",
   "metadata": {},
   "outputs": [
    {
     "name": "stdout",
     "output_type": "stream",
     "text": [
      "(27739, 891)\n"
     ]
    }
   ],
   "source": [
    "X = X.reshape(X.shape[0], -1)\n",
    "print(X.shape) # flattened version"
   ]
  },
  {
   "cell_type": "code",
   "execution_count": 62,
   "id": "5890105e-e0b3-401d-9841-f0ca9fd63409",
   "metadata": {},
   "outputs": [],
   "source": [
    "\n",
    "\n",
    "from sklearn.model_selection import train_test_split\n",
    "from sklearn.svm import LinearSVC\n",
    "from sklearn.metrics import confusion_matrix, classification_report\n",
    "\n"
   ]
  },
  {
   "cell_type": "code",
   "execution_count": 63,
   "id": "e11bb116-2d04-4a0e-b1ac-2888ec0ddeb0",
   "metadata": {},
   "outputs": [],
   "source": [
    "\n",
    "\n",
    "X_train, X_test, y_train, y_test = train_test_split(X, y, test_size=0.33, random_state=42)\n"
   ]
  },
  {
   "cell_type": "code",
   "execution_count": 64,
   "id": "d807f920-31b6-495a-b574-12c759fcf815",
   "metadata": {},
   "outputs": [
    {
     "name": "stdout",
     "output_type": "stream",
     "text": [
      "[LibLinear]....................................................................................................\n",
      "optimization finished, #iter = 1000\n",
      "\n",
      "WARNING: reaching max number of iterations\n",
      "Using -s 2 may be faster (also see FAQ)\n",
      "\n",
      "Objective value = -13349.042182\n",
      "nSV = 18249\n"
     ]
    }
   ],
   "source": [
    "\n",
    "\n",
    "svc = LinearSVC(class_weight=\"balanced\", verbose=10)\n",
    "svc.fit(X_train, y_train)\n",
    "y_pred = svc.predict(X_test)\n",
    "\n"
   ]
  },
  {
   "cell_type": "code",
   "execution_count": 65,
   "id": "8ed4fc11-4e7a-4804-8f0d-0586e2713d87",
   "metadata": {},
   "outputs": [
    {
     "data": {
      "text/plain": [
       "array([[5616, 1380],\n",
       "       [1771,  387]])"
      ]
     },
     "execution_count": 65,
     "metadata": {},
     "output_type": "execute_result"
    }
   ],
   "source": [
    "\n",
    "\n",
    "conf_mat = confusion_matrix(y_test, y_pred)\n",
    "conf_mat\n",
    "\n"
   ]
  },
  {
   "cell_type": "code",
   "execution_count": 66,
   "id": "8037f30c-5341-4d72-a94e-8d139aeb4e53",
   "metadata": {},
   "outputs": [
    {
     "data": {
      "text/plain": [
       "{'0': {'precision': 0.7602545011506701,\n",
       "  'recall': 0.8027444253859348,\n",
       "  'f1-score': 0.7809219217131335,\n",
       "  'support': 6996},\n",
       " '1': {'precision': 0.21901528013582344,\n",
       "  'recall': 0.1793327154772938,\n",
       "  'f1-score': 0.19719745222929938,\n",
       "  'support': 2158},\n",
       " 'accuracy': 0.6557788944723618,\n",
       " 'macro avg': {'precision': 0.4896348906432467,\n",
       "  'recall': 0.4910385704316143,\n",
       "  'f1-score': 0.48905968697121643,\n",
       "  'support': 9154},\n",
       " 'weighted avg': {'precision': 0.6326606362883106,\n",
       "  'recall': 0.6557788944723618,\n",
       "  'f1-score': 0.6433124171090135,\n",
       "  'support': 9154}}"
      ]
     },
     "execution_count": 66,
     "metadata": {},
     "output_type": "execute_result"
    }
   ],
   "source": [
    "classification_report(y_test, y_pred, output_dict=True)"
   ]
  },
  {
   "cell_type": "code",
   "execution_count": 69,
   "id": "ee50bfbc-9860-4a2b-ac80-5230a8ec5c09",
   "metadata": {},
   "outputs": [
    {
     "data": {
      "image/png": "[encoded data removed]",
      "text/plain": [
       "<Figure size 432x288 with 1 Axes>"
      ]
     },
     "metadata": {
      "needs_background": "light"
     },
     "output_type": "display_data"
    }
   ],
   "source": [
    "fpr, tpr, thresholds = metrics.roc_curve(y_test, y_pred, pos_label=1)\n",
    "roc_auc = metrics.auc(fpr, tpr)\n",
    "display = metrics.RocCurveDisplay(fpr=fpr, tpr=tpr, roc_auc=roc_auc,estimator_name='example estimator')\n",
    "display.plot()\n",
    "plt.show()"
   ]
  },
  {
   "cell_type": "code",
   "execution_count": null,
   "id": "8036954c-a8f9-429c-baf6-e7346d53625f",
   "metadata": {},
   "outputs": [],
   "source": []
  }
 ],
 "metadata": {
  "kernelspec": {
   "display_name": "Python 3 (ipykernel)",
   "language": "python",
   "name": "python3"
  },
  "language_info": {
   "codemirror_mode": {
    "name": "ipython",
    "version": 3
   },
   "file_extension": ".py",
   "mimetype": "text/x-python",
   "name": "python",
   "nbconvert_exporter": "python",
   "pygments_lexer": "ipython3",
   "version": "3.7.12"
  }
 },
 "nbformat": 4,
 "nbformat_minor": 5
}
