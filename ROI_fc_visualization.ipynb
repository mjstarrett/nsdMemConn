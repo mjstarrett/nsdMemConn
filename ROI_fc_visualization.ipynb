{
 "cells": [
  {
   "cell_type": "code",
   "execution_count": null,
   "id": "c5d8ba1f-d744-4f47-9e7a-12b5ce3280a3",
   "metadata": {},
   "outputs": [],
   "source": [
    "import pandas as pd\n",
    "import nibabel as nib\n",
    "import matplotlib.pyplot as plt\n",
    "import matplotlib.patches as patches\n",
    "from nilearn import plotting\n",
    "import numpy as np\n",
    "import scipy\n",
    "import seaborn as sns"
   ]
  },
  {
   "cell_type": "code",
   "execution_count": null,
   "id": "d36952f0-6858-480b-b13a-6b1df81f0ec0",
   "metadata": {},
   "outputs": [],
   "source": [
    "subj_cor = np.empty((10,8))\n",
    "for subj in range(1,9):\n",
    "    fc_first = np.load(f\"./subj0{subj}_ROI_fc_first.npy\")\n",
    "    fc_last = np.load(f\"./subj0{subj}_ROI_fc_last.npy\")\n",
    "    first_up = fc_first[np.triu_indices_from(fc_first[:,:,0], k=1)[0],np.triu_indices_from(fc_first[:,:,0], k=1)[1],:]\n",
    "    last_up = fc_last[np.triu_indices_from(fc_last[:,:,0], k=1)[0],np.triu_indices_from(fc_last[:,:,0], k=1)[1],:]\n",
    "    for session in range(fc_first.shape[2]):\n",
    "        subj_cor[session,subj-1] = np.corrcoef(first_up[:,session],last_up[:,session])[0,1]"
   ]
  },
  {
   "cell_type": "code",
   "execution_count": null,
   "id": "e0975b54-06af-4b04-8b68-ee4ae220d876",
   "metadata": {},
   "outputs": [],
   "source": [
    "fig, ax = plt.subplots()\n",
    "for i in range(8):\n",
    "    ax.plot(range(1,11), subj_cor[:, i], label=f\" SUBJ{i+1:02d}\")\n",
    "ax.set(xlabel=\"SESSIONS\", xticks=range(1, 11), xticklabels=[f\"{_:02d}\" for _ in range(1, 11)],\n",
    "      ylabel=\"correlation coefficient\")\n",
    "ax.legend(loc='upper left', bbox_to_anchor=(0.95, 1),\n",
    "          fancybox=True, shadow=True, ncol=1)\n",
    "sns.despine(top=True, right=True, trim=True)\n",
    "plt.show()"
   ]
  }
 ],
 "metadata": {
  "kernelspec": {
   "display_name": "Python 3 (ipykernel)",
   "language": "python",
   "name": "python3"
  },
  "language_info": {
   "codemirror_mode": {
    "name": "ipython",
    "version": 3
   },
   "file_extension": ".py",
   "mimetype": "text/x-python",
   "name": "python",
   "nbconvert_exporter": "python",
   "pygments_lexer": "ipython3",
   "version": "3.7.12"
  }
 },
 "nbformat": 4,
 "nbformat_minor": 5
}
