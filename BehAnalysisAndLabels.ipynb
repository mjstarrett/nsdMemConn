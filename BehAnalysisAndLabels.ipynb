{
 "cells": [
  {
   "cell_type": "code",
   "execution_count": 5,
   "id": "b7dd18f6-93ce-4b76-97fb-d5b635f4c674",
   "metadata": {},
   "outputs": [],
   "source": [
    "import numpy as np\n",
    "import pandas as pd"
   ]
  },
  {
   "cell_type": "code",
   "execution_count": 10,
   "id": "cfe7c344-41f7-455c-9d99-ad346aeb3820",
   "metadata": {},
   "outputs": [
    {
     "data": {
      "text/plain": [
       "pandas.core.frame.DataFrame"
      ]
     },
     "execution_count": 10,
     "metadata": {},
     "output_type": "execute_result"
    }
   ],
   "source": [
    "data = pd.read_csv('../../shared/NSD/nsddata/ppdata/subj01/behav/responses.tsv', sep='\\t')\n",
    "#print(data)\n",
    "type(data)"
   ]
  },
  {
   "cell_type": "code",
   "execution_count": 18,
   "id": "56750384-6bca-4430-8a0e-a8515272cf0f",
   "metadata": {},
   "outputs": [
    {
     "data": {
      "text/plain": [
       "ISCORRECT  ISOLD\n",
       "0.0        0         2558\n",
       "           1         4831\n",
       "1.0        0         7435\n",
       "           1        15165\n",
       "dtype: int64"
      ]
     },
     "execution_count": 18,
     "metadata": {},
     "output_type": "execute_result"
    }
   ],
   "source": [
    "# get hits, correct rejections, false alarms, misses\n",
    "\n",
    "# column 8 ISOLD: 0 = novel image, 1 = old image\n",
    "# column 9 ISCORRECT: 0 = incorrect response, 1 = correct response\n",
    "\n",
    "data.groupby(['ISCORRECT', 'ISOLD']).size()\n",
    "\n",
    "# row 1: false alarm\n",
    "# row 2: miss\n",
    "# row 3: hit\n",
    "# row 4: correct rejection"
   ]
  },
  {
   "cell_type": "code",
   "execution_count": null,
   "id": "cd6d7960-0f2d-4455-8086-89404bef354a",
   "metadata": {},
   "outputs": [],
   "source": []
  }
 ],
 "metadata": {
  "kernelspec": {
   "display_name": "Python 3 (ipykernel)",
   "language": "python",
   "name": "python3"
  },
  "language_info": {
   "codemirror_mode": {
    "name": "ipython",
    "version": 3
   },
   "file_extension": ".py",
   "mimetype": "text/x-python",
   "name": "python",
   "nbconvert_exporter": "python",
   "pygments_lexer": "ipython3",
   "version": "3.7.12"
  }
 },
 "nbformat": 4,
 "nbformat_minor": 5
}
