{
 "cells": [
  {
   "cell_type": "code",
   "execution_count": 21,
   "id": "b7dd18f6-93ce-4b76-97fb-d5b635f4c674",
   "metadata": {},
   "outputs": [],
   "source": [
    "import numpy as np\n",
    "import pandas as pd\n",
    "import matplotlib.pyplot as plt"
   ]
  },
  {
   "cell_type": "code",
   "execution_count": 22,
   "id": "56750384-6bca-4430-8a0e-a8515272cf0f",
   "metadata": {},
   "outputs": [],
   "source": [
    "# get hits, correct rejections, false alarms, misses for each participant\n",
    "\n",
    "counts = pd.DataFrame()\n",
    "RTs = pd.DataFrame()\n",
    "\n",
    "for isubj in range(8):\n",
    "    \n",
    "    data = pd.read_csv('../../shared/NSD/nsddata/ppdata/subj0%s/behav/responses.tsv' %(isubj+1), sep='\\t')\n",
    "\n",
    "    # column 8 ISOLD: 0 = novel image, 1 = old image\n",
    "    # column 9 ISCORRECT: 0 = incorrect response, 1 = correct response\n",
    "\n",
    "    counts[isubj] = data.groupby(['ISCORRECT', 'ISOLD']).size()\n",
    "    RTs[isubj] = data.groupby(['ISCORRECT', 'ISOLD']).mean()['RT']\n",
    "\n",
    "    # row 1: false alarm\n",
    "    # row 2: miss\n",
    "    # row 3: hit\n",
    "    # row 4: correct rejection"
   ]
  },
  {
   "cell_type": "code",
   "execution_count": 72,
   "id": "647952f2-c890-456c-964a-151df1fb679b",
   "metadata": {},
   "outputs": [
    {
     "name": "stdout",
     "output_type": "stream",
     "text": [
      "                     0      1     2     3      4     5      6     7\n",
      "ISCORRECT ISOLD                                                    \n",
      "0.0       0       2558   2350  1673   730   1557   494   1268  3087\n",
      "          1       4831   4299  7415  5634   7743  7787  11024  3297\n",
      "1.0       0       7435   7642  7706  8444   8436  8893   8691  6066\n",
      "          1      15165  15682  7083  7583  12247  6749   8875  9930\n",
      "[7435 7642 7706 8444 8436 8893 8691 6066]\n"
     ]
    }
   ],
   "source": [
    "print(counts)\n",
    "print(counts.values[2])\n"
   ]
  },
  {
   "cell_type": "code",
   "execution_count": null,
   "id": "562b6707-cc8e-4d4c-ad74-6b01c0b07734",
   "metadata": {},
   "outputs": [],
   "source": [
    "print([]"
   ]
  },
  {
   "cell_type": "code",
   "execution_count": 77,
   "id": "cd6d7960-0f2d-4455-8086-89404bef354a",
   "metadata": {},
   "outputs": [
    {
     "data": {
      "image/png": "[encoded data removed]",
      "text/plain": [
       "<Figure size 432x288 with 1 Axes>"
      ]
     },
     "metadata": {
      "needs_background": "light"
     },
     "output_type": "display_data"
    }
   ],
   "source": [
    "# for each participant plot number of hits, misses, CR and FA and RT for each category\n",
    "\n",
    "fig,axs = plt.subplots()\n",
    "\n",
    "for icategory in range(4):\n",
    "    axs.plot([icategory]*8,counts.values[icategory],'*')"
   ]
  },
  {
   "cell_type": "code",
   "execution_count": null,
   "id": "d51a2ceb-03b5-41dd-b405-90c75caa1ee1",
   "metadata": {},
   "outputs": [],
   "source": [
    "# save labels for each participant (NaN for when no response was given) and session number"
   ]
  }
 ],
 "metadata": {
  "kernelspec": {
   "display_name": "Python 3 (ipykernel)",
   "language": "python",
   "name": "python3"
  },
  "language_info": {
   "codemirror_mode": {
    "name": "ipython",
    "version": 3
   },
   "file_extension": ".py",
   "mimetype": "text/x-python",
   "name": "python",
   "nbconvert_exporter": "python",
   "pygments_lexer": "ipython3",
   "version": "3.7.12"
  }
 },
 "nbformat": 4,
 "nbformat_minor": 5
}
