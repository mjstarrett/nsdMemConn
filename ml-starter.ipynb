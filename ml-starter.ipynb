{
 "cells": [
  {
   "cell_type": "code",
   "execution_count": 2,
   "id": "15a07d5a-3315-475a-9893-5d7f68ee6dab",
   "metadata": {},
   "outputs": [],
   "source": [
    "from pathlib import Path\n",
    "import pandas as pd\n",
    "import nibabel as nib\n",
    "import matplotlib.pyplot as plt\n",
    "import seaborn as sns\n",
    "import numpy as np\n",
    "from tqdm.notebook import tqdm\n",
    "import warnings\n",
    "warnings.filterwarnings(\"ignore\")"
   ]
  },
  {
   "cell_type": "code",
   "execution_count": 3,
   "id": "1a11e02f-67dc-4d85-866c-41af5688e5d1",
   "metadata": {},
   "outputs": [],
   "source": [
    "data_base = Path(\"shared/NSD\")\n",
    "curr_subj = \"subj01\"\n",
    "subj_behav_file = data_base / f\"nsddata/ppdata/{curr_subj}/behav/responses.tsv\"\n",
    "subj_behav = pd.read_csv(subj_behav_file, delimiter=\"\\t\")"
   ]
  },
  {
   "cell_type": "code",
   "execution_count": 4,
   "id": "194955ef-2742-46e0-b05d-36c02bd22bfd",
   "metadata": {},
   "outputs": [],
   "source": [
    "# add within session iteration indices\n",
    "for sess_id in range(1, 40+1):\n",
    "    subj_behav.loc[subj_behav[\"SESSION\"]==sess_id, \"INSESSIONIDX\"] = list(range(1, 750+1))"
   ]
  },
  {
   "cell_type": "code",
   "execution_count": 5,
   "id": "15c48e3e-d927-4fde-b18a-608de172a89f",
   "metadata": {},
   "outputs": [],
   "source": [
    "subj_behav_sel = subj_behav.dropna(subset=[\"BUTTON\"])\n",
    "subj_behav_sel = subj_behav_sel[~subj_behav_sel[\"SESSION\"].isin([38, 39, 40])]"
   ]
  },
  {
   "cell_type": "code",
   "execution_count": 7,
   "id": "4a17f6b5-8dbc-4766-8613-82047e8f722b",
   "metadata": {},
   "outputs": [],
   "source": [
    "# take the first saved data\n",
    "betas = np.load(\"./nsd-data/MTL-1_full.npy\")"
   ]
  },
  {
   "cell_type": "code",
   "execution_count": 8,
   "id": "f2f78454-f7b2-4b10-87ea-78746b7ef5b9",
   "metadata": {},
   "outputs": [],
   "source": [
    "X = betas[subj_behav_sel.index, :] / 300\n",
    "y = subj_behav_sel[\"ISOLDCURRENT\"].to_numpy()"
   ]
  },
  {
   "cell_type": "code",
   "execution_count": 9,
   "id": "85606ec3-178a-4c3b-9da6-fbc4b5c90f8f",
   "metadata": {},
   "outputs": [],
   "source": [
    "from sklearn.model_selection import train_test_split\n",
    "from sklearn.svm import LinearSVC\n",
    "from sklearn.metrics import confusion_matrix, classification_report"
   ]
  },
  {
   "cell_type": "code",
   "execution_count": 10,
   "id": "ef6901d8-de20-4083-8c44-cad97895aca2",
   "metadata": {},
   "outputs": [],
   "source": [
    "X_train, X_test, y_train, y_test = train_test_split(X, y, test_size=0.33, random_state=42)"
   ]
  },
  {
   "cell_type": "code",
   "execution_count": 11,
   "id": "565ac521-051a-4a74-98c4-36bd3c5da490",
   "metadata": {},
   "outputs": [
    {
     "name": "stdout",
     "output_type": "stream",
     "text": [
      "[LibLinear]....................................................................................................\n",
      "optimization finished, #iter = 1000\n",
      "\n",
      "WARNING: reaching max number of iterations\n",
      "Using -s 2 may be faster (also see FAQ)\n",
      "\n",
      "Objective value = -1179.217130\n",
      "nSV = 18539\n"
     ]
    }
   ],
   "source": [
    "svc = LinearSVC(class_weight=\"balanced\", verbose=10)\n",
    "svc.fit(X_train, y_train)\n",
    "y_pred = svc.predict(X_test)"
   ]
  },
  {
   "cell_type": "code",
   "execution_count": 12,
   "id": "09bc8fa5-6da6-4005-8e00-5327322aabd0",
   "metadata": {},
   "outputs": [
    {
     "data": {
      "text/plain": [
       "array([[5217, 1779],\n",
       "       [1510,  648]])"
      ]
     },
     "execution_count": 12,
     "metadata": {},
     "output_type": "execute_result"
    }
   ],
   "source": [
    "conf_mat = confusion_matrix(y_test, y_pred)\n",
    "conf_mat"
   ]
  },
  {
   "cell_type": "code",
   "execution_count": 13,
   "id": "70a5bcb8-016d-4c3b-8bd1-5db33d6253a1",
   "metadata": {},
   "outputs": [
    {
     "data": {
      "text/plain": [
       "{'0': {'precision': 0.7755314404638026,\n",
       "  'recall': 0.7457118353344768,\n",
       "  'f1-score': 0.7603293740435765,\n",
       "  'support': 6996},\n",
       " '1': {'precision': 0.2669962917181706,\n",
       "  'recall': 0.3002780352177943,\n",
       "  'f1-score': 0.2826608505997819,\n",
       "  'support': 2158},\n",
       " 'accuracy': 0.6407035175879398,\n",
       " 'macro avg': {'precision': 0.5212638660909866,\n",
       "  'recall': 0.5229949352761356,\n",
       "  'f1-score': 0.5214951123216792,\n",
       "  'support': 9154},\n",
       " 'weighted avg': {'precision': 0.6556473623566282,\n",
       "  'recall': 0.6407035175879398,\n",
       "  'f1-score': 0.6477219157093281,\n",
       "  'support': 9154}}"
      ]
     },
     "execution_count": 13,
     "metadata": {},
     "output_type": "execute_result"
    }
   ],
   "source": [
    "classification_report(y_test, y_pred, output_dict=True)"
   ]
  },
  {
   "cell_type": "code",
   "execution_count": null,
   "id": "36a757f6-6a52-4ae6-a360-5026c0e156bd",
   "metadata": {},
   "outputs": [],
   "source": []
  }
 ],
 "metadata": {
  "kernelspec": {
   "display_name": "Python 3 (ipykernel)",
   "language": "python",
   "name": "python3"
  },
  "language_info": {
   "codemirror_mode": {
    "name": "ipython",
    "version": 3
   },
   "file_extension": ".py",
   "mimetype": "text/x-python",
   "name": "python",
   "nbconvert_exporter": "python",
   "pygments_lexer": "ipython3",
   "version": "3.7.12"
  }
 },
 "nbformat": 4,
 "nbformat_minor": 5
}
