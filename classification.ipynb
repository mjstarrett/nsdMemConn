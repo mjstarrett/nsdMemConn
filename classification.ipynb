{
 "cells": [
  {
   "cell_type": "code",
   "execution_count": 7,
   "metadata": {},
   "outputs": [
    {
     "name": "stdout",
     "output_type": "stream",
     "text": [
      "Collecting imbalanced-learn==0.9.0\n",
      "\u001b[?25l  Downloading https://files.pythonhosted.org/packages/83/92/a4d1f42b29e9f62f9c3fad68d28282a9610a02801e1d89945702f981dd8e/imbalanced_learn-0.9.0-py3-none-any.whl (199kB)\n",
      "\u001b[K     |████████████████████████████████| 204kB 10.2MB/s eta 0:00:01\n",
      "\u001b[?25hRequirement already satisfied: scikit-learn>=1.0.1 in /Users/Kirsten/anaconda3/lib/python3.7/site-packages (from imbalanced-learn==0.9.0) (1.0.2)\n",
      "Requirement already satisfied: threadpoolctl>=2.0.0 in /Users/Kirsten/anaconda3/lib/python3.7/site-packages (from imbalanced-learn==0.9.0) (3.1.0)\n",
      "Requirement already satisfied: numpy>=1.14.6 in /Users/Kirsten/anaconda3/lib/python3.7/site-packages (from imbalanced-learn==0.9.0) (1.21.6)\n",
      "Requirement already satisfied: scipy>=1.1.0 in /Users/Kirsten/anaconda3/lib/python3.7/site-packages (from imbalanced-learn==0.9.0) (1.3.0)\n",
      "Requirement already satisfied: joblib>=0.11 in /Users/Kirsten/anaconda3/lib/python3.7/site-packages (from imbalanced-learn==0.9.0) (0.13.2)\n",
      "Installing collected packages: imbalanced-learn\n",
      "Successfully installed imbalanced-learn-0.9.0\n"
     ]
    }
   ],
   "source": [
    "!pip install imbalanced-learn==0.9.0"
   ]
  },
  {
   "cell_type": "code",
   "execution_count": 1,
   "metadata": {},
   "outputs": [],
   "source": [
    "import pandas as pd\n",
    "import numpy as np\n",
    "import matplotlib.pyplot as plt\n",
    "from sklearn.svm import SVC\n",
    "from sklearn.multiclass import OneVsRestClassifier\n",
    "from sklearn.multiclass import OneVsOneClassifier\n",
    "from sklearn.discriminant_analysis import LinearDiscriminantAnalysis\n",
    "from imblearn.under_sampling import RandomUnderSampler\n",
    "from imblearn.over_sampling import RandomOverSampler \n",
    "from imblearn.over_sampling import SMOTE \n",
    "from sklearn.metrics import confusion_matrix\n",
    "from sklearn.decomposition import PCA\n",
    "from sklearn.ensemble import RandomForestClassifier"
   ]
  },
  {
   "cell_type": "code",
   "execution_count": 2,
   "metadata": {},
   "outputs": [],
   "source": [
    "n_subj = 8\n",
    "n_sessions = 37 # max. session number (some subjects have fewer sessions)\n",
    "n_rois = 10 # in MTL\n",
    "n_trials = 750 # in one session"
   ]
  },
  {
   "cell_type": "code",
   "execution_count": 25,
   "metadata": {},
   "outputs": [
    {
     "name": "stdout",
     "output_type": "stream",
     "text": [
      "0\n",
      "1\n",
      "2\n",
      "3\n",
      "4\n",
      "5\n",
      "6\n",
      "7\n"
     ]
    }
   ],
   "source": [
    "## classification\n",
    "\n",
    "acc = np.empty((n_subj,n_rois,n_sessions))\n",
    "acc[:] = np.NaN\n",
    "y_actual = np.empty((n_subj,n_rois,n_sessions,n_trials))\n",
    "y_actual[:] = np.NaN\n",
    "y_predicted = np.empty((n_subj,n_rois,n_sessions,n_trials))\n",
    "y_predicted[:] = np.NaN\n",
    "sessions_per_subject = list()\n",
    "\n",
    "#clf = OneVsRestClassifier((SVC(kernel='linear')))\n",
    "clf = LinearDiscriminantAnalysis()\n",
    "#clf = RandomForestClassifier(max_depth=2, random_state=0)\n",
    "\n",
    "\n",
    "for isubj in range(n_subj):\n",
    "    print(isubj)\n",
    "    \n",
    "    # get behavioural data\n",
    "    subj_behav_file = \"subj0%s/nsd_s%s_sigDetect\" %(isubj+1,isubj+1)\n",
    "    subj_behav = pd.read_csv(subj_behav_file, delimiter=\"\\t\")\n",
    "    \n",
    "\n",
    "    for iroi in range(n_rois):\n",
    "        #print('ROI: ' + str(iroi))\n",
    "        \n",
    "        # get fMRI data for this ROI\n",
    "        X = np.load(\"subj0%s/MTL-S%s-%s_full.npy\" %(isubj+1,isubj+1,iroi+1))\n",
    "        \n",
    "        # get number of sessions for this subject (as they differ per subject)\n",
    "        curr_num_sessions = int(X.shape[0]/n_trials)\n",
    "        sessions_per_subject.append(curr_num_sessions)\n",
    "        \n",
    "        # for behavioural data, drop those sessions for which fMRI data is not available\n",
    "        subj_behav = subj_behav[~subj_behav[\"SESSION\"].isin(np.arange(0,40-curr_num_sessions)+curr_num_sessions+1)]\n",
    "        \n",
    "        # get labels\n",
    "        # 0: HIT; # 1: MISS; # 2: CORRECT REJECTION; # 3: FALSE ALARM; # 4: NO RESPONSE\n",
    "        labels = subj_behav[\"SigDetection\"]\n",
    "        labels = labels.to_numpy(labels)\n",
    "        \n",
    "        # get session number\n",
    "        sessions = subj_behav[\"SESSION\"]\n",
    "        sessions = sessions.to_numpy(sessions)\n",
    "    \n",
    "        # delete trials where subject didn't respond and so we don't have a label (==4)\n",
    "        # also get rid of some of the conditions\n",
    "        #X = np.delete(X,np.where((labels==4) | (labels==1) | (labels==3)),0)\n",
    "        X = np.delete(X,np.where(labels==4),0)\n",
    "        #sessions = np.delete(sessions,np.where((labels==4) | (labels==1) | (labels==3)),0)\n",
    "        sessions = np.delete(sessions,np.where(labels==4),0)\n",
    "        #y = np.delete(labels,np.where((labels==4) | (labels==1) | (labels==3)),0)\n",
    "        y = np.delete(labels,np.where(labels==4),0)\n",
    "        #y[y==0] = 3\n",
    "        #y[y==1] = 2\n",
    "                \n",
    "        #print(X.shape)\n",
    "        \n",
    "        \n",
    "        # every session gets left out once as testing data\n",
    "        for isession in range(curr_num_sessions):\n",
    "            #print(isession)\n",
    "            \n",
    "            X_train = np.delete(X,np.where(sessions==isession+1),0)\n",
    "            y_train = np.delete(y,np.where(sessions==isession+1),0)\n",
    "            \n",
    "            # make the training data balanced\n",
    "            rus = RandomUnderSampler(random_state=42,sampling_strategy='not minority')\n",
    "            #rus = RandomOverSampler(random_state=42,sampling_strategy='not majority')\n",
    "            #sm = SMOTE(random_state=42,sampling_strategy='not majority')\n",
    "            X_train, y_train = rus.fit_resample(X_train, y_train)\n",
    "\n",
    "            X_test = np.delete(X,np.where(sessions!=isession+1),0)\n",
    "            y_test = np.delete(y,np.where(sessions!=isession+1),0)\n",
    "            \n",
    "            # run PCA\n",
    "            #0 < n_components < 1 and svd_solver == 'full', \n",
    "            #pca = PCA(n_components=int(np.round(X_train.shape[1]/4)))\n",
    "            #pca = PCA(n_components=0.25)\n",
    "            #pca.fit(X_train)\n",
    "            #X_train = pca.transform(X_train)\n",
    "            #X_test = pca.transform(X_test)\n",
    "            \n",
    "\n",
    "            clf.fit(X_train,y_train)\n",
    "            \n",
    "            y_predict = clf.predict(X_test)\n",
    "            acc[isubj,iroi,isession] = np.mean(y_predict == y_test)\n",
    "            \n",
    "            y_actual[isubj,iroi,isession,0:len(y_test)] = y_test\n",
    "            y_predicted[isubj,iroi,isession,0:len(y_test)] = y_predict"
   ]
  },
  {
   "cell_type": "code",
   "execution_count": 26,
   "metadata": {},
   "outputs": [],
   "source": [
    "np.save(\"results/acc_4way\",acc)\n",
    "np.save(\"results/y_actual_4way\",y_actual)\n",
    "np.save(\"results/y_predicted_4way\",y_predicted)"
   ]
  },
  {
   "cell_type": "code",
   "execution_count": 27,
   "metadata": {},
   "outputs": [
    {
     "name": "stdout",
     "output_type": "stream",
     "text": [
      "[0.28410606 0.29550251 0.28383552 0.28508417 0.28396436 0.26561239\n",
      " 0.28600046 0.28289784 0.30390004 0.2764908 ]\n"
     ]
    }
   ],
   "source": [
    "#print(acc)\n",
    "print(np.mean(np.nanmean(acc,axis=2),axis=0))"
   ]
  },
  {
   "cell_type": "code",
   "execution_count": 32,
   "metadata": {},
   "outputs": [
    {
     "data": {
      "text/plain": [
       "<matplotlib.lines.Line2D at 0x7f9958e30cc0>"
      ]
     },
     "execution_count": 32,
     "metadata": {},
     "output_type": "execute_result"
    },
    {
     "data": {
      "image/png": "[encoded data removed]",
      "text/plain": [
       "<Figure size 432x288 with 1 Axes>"
      ]
     },
     "metadata": {
      "needs_background": "light"
     },
     "output_type": "display_data"
    }
   ],
   "source": [
    "# plot classification accuracy for the 10 ROIs\n",
    "\n",
    "fig,axs = plt.subplots()\n",
    "axs.bar(np.linspace(1,10,10),np.mean(np.nanmean(acc,axis=2),axis=0)*100)\n",
    "axs.set_ylabel('classification accuracy (%)',fontsize=12)\n",
    "axs.set_xticks(np.linspace(1,10,10))\n",
    "axs.set_xticklabels(['ERC','35','36','SUB','CA1','CA2','CA3','DG','PHC','HT'],fontsize=12)\n",
    "axs.set_ylim([20,31])\n",
    "plt.axhline(y = 25, color = 'r', linestyle = '-')\n",
    "\n",
    "# error bars and individual data points"
   ]
  },
  {
   "cell_type": "code",
   "execution_count": 36,
   "metadata": {},
   "outputs": [],
   "source": [
    "confMatrices = np.zeros((n_subj,n_rois,4,4))\n",
    "\n",
    "for isubj in range(n_subj):\n",
    "    for iroi in range(n_rois):\n",
    "        \n",
    "        y_true = np.concatenate(y_actual[isubj,iroi])\n",
    "        y_pred = np.concatenate(y_predicted[isubj,iroi])\n",
    "        \n",
    "        # remove NaN (there because some trials don't have response)\n",
    "        y_true = y_true[np.logical_not(np.isnan(y_true))]\n",
    "        y_pred = y_pred[np.logical_not(np.isnan(y_pred))]\n",
    "        \n",
    "        confMatrix = confusion_matrix(y_true,y_pred)\n",
    "        # convert to percentages\n",
    "        divideby = np.sum(confMatrix,axis=1)\n",
    "        divideby = np.transpose(np.repeat([divideby], 4, axis=0))\n",
    "        confMatrix_percentage = np.divide(confMatrix,divideby)\n",
    "        \n",
    "        confMatrices[isubj,iroi] = confMatrix_percentage*100"
   ]
  },
  {
   "cell_type": "code",
   "execution_count": 37,
   "metadata": {},
   "outputs": [],
   "source": [
    "np.save(\"results/confMatrices_4way\",confMatrices)"
   ]
  },
  {
   "cell_type": "code",
   "execution_count": null,
   "metadata": {},
   "outputs": [],
   "source": []
  }
 ],
 "metadata": {
  "kernelspec": {
   "display_name": "Python 3",
   "language": "python",
   "name": "python3"
  },
  "language_info": {
   "codemirror_mode": {
    "name": "ipython",
    "version": 3
   },
   "file_extension": ".py",
   "mimetype": "text/x-python",
   "name": "python",
   "nbconvert_exporter": "python",
   "pygments_lexer": "ipython3",
   "version": "3.7.3"
  }
 },
 "nbformat": 4,
 "nbformat_minor": 2
}
