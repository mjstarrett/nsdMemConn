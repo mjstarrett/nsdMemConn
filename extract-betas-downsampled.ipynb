{
 "cells": [
  {
   "cell_type": "markdown",
   "id": "106549ac-5b5d-40e4-a943-af86f65d5e52",
   "metadata": {},
   "source": [
    "# Will not use ROI, but instead a 3D compact downsampled representation of the whole brain"
   ]
  },
  {
   "cell_type": "code",
   "execution_count": 8,
   "id": "46ce9cda-932e-46fa-9aa0-46b9162218df",
   "metadata": {},
   "outputs": [],
   "source": [
    "from pathlib import Path\n",
    "import nibabel as nib\n",
    "import numpy as np\n",
    "import h5py\n"
   ]
  },
  {
   "cell_type": "code",
   "execution_count": 13,
   "id": "df9c025b-bb52-444f-9607-d6843a7d063b",
   "metadata": {},
   "outputs": [
    {
     "name": "stdout",
     "output_type": "stream",
     "text": [
      "FOUND /home/jovyan/shared/NSD/nsddata_betas/ppdata/subj01/func1pt8mm/beta_fithrf_GLMdenoise_RR/betas_session01.hdf5\n",
      "(1, 750, 9, 11, 9)\n",
      "FOUND /home/jovyan/shared/NSD/nsddata_betas/ppdata/subj01/func1pt8mm/beta_fithrf_GLMdenoise_RR/betas_session02.hdf5\n",
      "(1, 750, 9, 11, 9)\n",
      "FOUND /home/jovyan/shared/NSD/nsddata_betas/ppdata/subj01/func1pt8mm/beta_fithrf_GLMdenoise_RR/betas_session03.hdf5\n",
      "(1, 750, 9, 11, 9)\n",
      "FOUND /home/jovyan/shared/NSD/nsddata_betas/ppdata/subj01/func1pt8mm/beta_fithrf_GLMdenoise_RR/betas_session04.hdf5\n",
      "(1, 750, 9, 11, 9)\n",
      "FOUND /home/jovyan/shared/NSD/nsddata_betas/ppdata/subj01/func1pt8mm/beta_fithrf_GLMdenoise_RR/betas_session05.hdf5\n",
      "(1, 750, 9, 11, 9)\n",
      "FOUND /home/jovyan/shared/NSD/nsddata_betas/ppdata/subj01/func1pt8mm/beta_fithrf_GLMdenoise_RR/betas_session06.hdf5\n",
      "(1, 750, 9, 11, 9)\n",
      "FOUND /home/jovyan/shared/NSD/nsddata_betas/ppdata/subj01/func1pt8mm/beta_fithrf_GLMdenoise_RR/betas_session07.hdf5\n",
      "(1, 750, 9, 11, 9)\n",
      "FOUND /home/jovyan/shared/NSD/nsddata_betas/ppdata/subj01/func1pt8mm/beta_fithrf_GLMdenoise_RR/betas_session08.hdf5\n",
      "(1, 750, 9, 11, 9)\n",
      "FOUND /home/jovyan/shared/NSD/nsddata_betas/ppdata/subj01/func1pt8mm/beta_fithrf_GLMdenoise_RR/betas_session09.hdf5\n",
      "(1, 750, 9, 11, 9)\n",
      "FOUND /home/jovyan/shared/NSD/nsddata_betas/ppdata/subj01/func1pt8mm/beta_fithrf_GLMdenoise_RR/betas_session10.hdf5\n",
      "(1, 750, 9, 11, 9)\n",
      "FOUND /home/jovyan/shared/NSD/nsddata_betas/ppdata/subj01/func1pt8mm/beta_fithrf_GLMdenoise_RR/betas_session11.hdf5\n",
      "(1, 750, 9, 11, 9)\n",
      "FOUND /home/jovyan/shared/NSD/nsddata_betas/ppdata/subj01/func1pt8mm/beta_fithrf_GLMdenoise_RR/betas_session12.hdf5\n",
      "(1, 750, 9, 11, 9)\n",
      "FOUND /home/jovyan/shared/NSD/nsddata_betas/ppdata/subj01/func1pt8mm/beta_fithrf_GLMdenoise_RR/betas_session13.hdf5\n",
      "(1, 750, 9, 11, 9)\n",
      "FOUND /home/jovyan/shared/NSD/nsddata_betas/ppdata/subj01/func1pt8mm/beta_fithrf_GLMdenoise_RR/betas_session14.hdf5\n",
      "(1, 750, 9, 11, 9)\n",
      "FOUND /home/jovyan/shared/NSD/nsddata_betas/ppdata/subj01/func1pt8mm/beta_fithrf_GLMdenoise_RR/betas_session15.hdf5\n",
      "(1, 750, 9, 11, 9)\n",
      "FOUND /home/jovyan/shared/NSD/nsddata_betas/ppdata/subj01/func1pt8mm/beta_fithrf_GLMdenoise_RR/betas_session16.hdf5\n",
      "(1, 750, 9, 11, 9)\n",
      "FOUND /home/jovyan/shared/NSD/nsddata_betas/ppdata/subj01/func1pt8mm/beta_fithrf_GLMdenoise_RR/betas_session17.hdf5\n",
      "(1, 750, 9, 11, 9)\n",
      "FOUND /home/jovyan/shared/NSD/nsddata_betas/ppdata/subj01/func1pt8mm/beta_fithrf_GLMdenoise_RR/betas_session18.hdf5\n",
      "(1, 750, 9, 11, 9)\n",
      "FOUND /home/jovyan/shared/NSD/nsddata_betas/ppdata/subj01/func1pt8mm/beta_fithrf_GLMdenoise_RR/betas_session19.hdf5\n",
      "(1, 750, 9, 11, 9)\n",
      "FOUND /home/jovyan/shared/NSD/nsddata_betas/ppdata/subj01/func1pt8mm/beta_fithrf_GLMdenoise_RR/betas_session20.hdf5\n",
      "(1, 750, 9, 11, 9)\n",
      "FOUND /home/jovyan/shared/NSD/nsddata_betas/ppdata/subj01/func1pt8mm/beta_fithrf_GLMdenoise_RR/betas_session21.hdf5\n",
      "(1, 750, 9, 11, 9)\n",
      "FOUND /home/jovyan/shared/NSD/nsddata_betas/ppdata/subj01/func1pt8mm/beta_fithrf_GLMdenoise_RR/betas_session22.hdf5\n",
      "(1, 750, 9, 11, 9)\n",
      "FOUND /home/jovyan/shared/NSD/nsddata_betas/ppdata/subj01/func1pt8mm/beta_fithrf_GLMdenoise_RR/betas_session23.hdf5\n",
      "(1, 750, 9, 11, 9)\n",
      "FOUND /home/jovyan/shared/NSD/nsddata_betas/ppdata/subj01/func1pt8mm/beta_fithrf_GLMdenoise_RR/betas_session24.hdf5\n",
      "(1, 750, 9, 11, 9)\n",
      "FOUND /home/jovyan/shared/NSD/nsddata_betas/ppdata/subj01/func1pt8mm/beta_fithrf_GLMdenoise_RR/betas_session25.hdf5\n",
      "(1, 750, 9, 11, 9)\n",
      "FOUND /home/jovyan/shared/NSD/nsddata_betas/ppdata/subj01/func1pt8mm/beta_fithrf_GLMdenoise_RR/betas_session26.hdf5\n",
      "(1, 750, 9, 11, 9)\n",
      "FOUND /home/jovyan/shared/NSD/nsddata_betas/ppdata/subj01/func1pt8mm/beta_fithrf_GLMdenoise_RR/betas_session27.hdf5\n",
      "(1, 750, 9, 11, 9)\n",
      "FOUND /home/jovyan/shared/NSD/nsddata_betas/ppdata/subj01/func1pt8mm/beta_fithrf_GLMdenoise_RR/betas_session28.hdf5\n",
      "(1, 750, 9, 11, 9)\n",
      "FOUND /home/jovyan/shared/NSD/nsddata_betas/ppdata/subj01/func1pt8mm/beta_fithrf_GLMdenoise_RR/betas_session29.hdf5\n",
      "(1, 750, 9, 11, 9)\n",
      "FOUND /home/jovyan/shared/NSD/nsddata_betas/ppdata/subj01/func1pt8mm/beta_fithrf_GLMdenoise_RR/betas_session30.hdf5\n",
      "(1, 750, 9, 11, 9)\n",
      "FOUND /home/jovyan/shared/NSD/nsddata_betas/ppdata/subj01/func1pt8mm/beta_fithrf_GLMdenoise_RR/betas_session31.hdf5\n",
      "(1, 750, 9, 11, 9)\n",
      "FOUND /home/jovyan/shared/NSD/nsddata_betas/ppdata/subj01/func1pt8mm/beta_fithrf_GLMdenoise_RR/betas_session32.hdf5\n",
      "(1, 750, 9, 11, 9)\n",
      "FOUND /home/jovyan/shared/NSD/nsddata_betas/ppdata/subj01/func1pt8mm/beta_fithrf_GLMdenoise_RR/betas_session33.hdf5\n",
      "(1, 750, 9, 11, 9)\n",
      "FOUND /home/jovyan/shared/NSD/nsddata_betas/ppdata/subj01/func1pt8mm/beta_fithrf_GLMdenoise_RR/betas_session34.hdf5\n",
      "(1, 750, 9, 11, 9)\n",
      "FOUND /home/jovyan/shared/NSD/nsddata_betas/ppdata/subj01/func1pt8mm/beta_fithrf_GLMdenoise_RR/betas_session35.hdf5\n",
      "(1, 750, 9, 11, 9)\n",
      "FOUND /home/jovyan/shared/NSD/nsddata_betas/ppdata/subj01/func1pt8mm/beta_fithrf_GLMdenoise_RR/betas_session36.hdf5\n",
      "(1, 750, 9, 11, 9)\n",
      "FOUND /home/jovyan/shared/NSD/nsddata_betas/ppdata/subj01/func1pt8mm/beta_fithrf_GLMdenoise_RR/betas_session37.hdf5\n",
      "(1, 750, 9, 11, 9)\n"
     ]
    }
   ],
   "source": [
    "downsample_size = 10#50\n",
    "all_sessions = []\n",
    "#for sess in range(1, 40+1):\n",
    "for sess in range(1, 37+1): # in the shared folder, only 37 sessions\n",
    "#for sess in range(1, 4+1):\n",
    "    file_path = Path(f\"/home/jovyan/shared/NSD/nsddata_betas/ppdata/subj01/func1pt8mm/beta_fithrf_GLMdenoise_RR/betas_session{int(sess):02d}.hdf5\")\n",
    "    if file_path.is_file():\n",
    "        print(f\"FOUND {file_path}\")\n",
    "        curr_session = []\n",
    "        with h5py.File(file_path, \"r\") as f:\n",
    "            #print(f[\"betas\"][0, :].shape) \n",
    "            #print(f[\"betas\"].shape)# 750 trials\n",
    "            #print(f[\"betas\"][:, ::10, ::10, ::10].shape)\n",
    "            #zoomed_session = zoom(f[\"betas\"], zoom_extent) # did not work: interpolation made averything crash !\n",
    "            #print(zoom_session.shape)\n",
    "            curr_session += [f[\"betas\"][:, ::downsample_size, ::downsample_size, ::downsample_size]] # BASIC DOWNSAMPLING: NO INTERPOLATION, NOTHING !\n",
    "            #curr_session += [f[\"betas\"][:, lh_idx[2][i], lh_idx[1][i], lh_idx[0][i]] for i in range(len(lh_idx[0]))]\n",
    "            #curr_session += [f[\"betas\"][:, rh_idx[2][i], rh_idx[1][i], rh_idx[0][i]] for i in range(len(rh_idx[0]))]\n",
    "            curr_session = np.array(curr_session)\n",
    "            print(curr_session.shape)\n",
    "        all_sessions.append(curr_session)\n",
    "\n",
    "all_sessions = np.concatenate(all_sessions, axis=1) # voxels, 750*sessions\n",
    "np.save(f\"nsd-data/MTL_downsampled_\"+str(downsample_size)+\"_full.npy\", all_sessions.T)"
   ]
  },
  {
   "cell_type": "code",
   "execution_count": null,
   "id": "bb8bf819-3c0f-485d-a668-531ed8d2082b",
   "metadata": {},
   "outputs": [],
   "source": []
  },
  {
   "cell_type": "code",
   "execution_count": null,
   "id": "15871a7f-878a-4593-a693-b25b4ff68228",
   "metadata": {},
   "outputs": [
    {
     "name": "stdout",
     "output_type": "stream",
     "text": [
      "[[[ 10  10  12  12   5   5]\n",
      "  [  6   6  15  15  16  16]\n",
      "  [ 10  10 120  12   5   5]\n",
      "  [  6  60  10 100  12  12]]]\n",
      "===\n",
      "[[[10 13  5]\n",
      "  [ 6 16 16]\n",
      "  [10 78  5]\n",
      "  [ 6 57 12]]]\n"
     ]
    }
   ],
   "source": [
    "from scipy.ndimage import zoom #did not work on the whole dataset: interpolations on 3D snapshots made the jupyternotebook crash\n",
    "array = np.array([[10,10,12,12],[5,5,6,6], [15,15,16,16], [10,10,120,12], [5,5,6,60], [10,100,12,12]] ).reshape((1,4,6))\n",
    "#new_array = zoom(array, (1.0, 0.5, 1.0))\n",
    "new_array = zoom(array, (1.0, 1.0, 0.5))\n",
    "print(array)\n",
    "print(\"===\")\n",
    "print(new_array)\n",
    "\n",
    "#Zoom an array.\n",
    "#The array is zoomed using spline interpolation of the requested order.Could be used for the entire brain maps"
   ]
  }
 ],
 "metadata": {
  "kernelspec": {
   "display_name": "Python 3 (ipykernel)",
   "language": "python",
   "name": "python3"
  },
  "language_info": {
   "codemirror_mode": {
    "name": "ipython",
    "version": 3
   },
   "file_extension": ".py",
   "mimetype": "text/x-python",
   "name": "python",
   "nbconvert_exporter": "python",
   "pygments_lexer": "ipython3",
   "version": "3.7.12"
  }
 },
 "nbformat": 4,
 "nbformat_minor": 5
}
