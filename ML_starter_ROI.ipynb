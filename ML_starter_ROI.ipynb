{
 "cells": [
  {
   "cell_type": "code",
   "execution_count": 1,
   "id": "52043136-7a28-4022-9788-dd546c2c4d57",
   "metadata": {},
   "outputs": [],
   "source": [
    "from pathlib import Path\n",
    "import pandas as pd\n",
    "import nibabel as nib\n",
    "import matplotlib.pyplot as plt\n",
    "import seaborn as sns\n",
    "import numpy as np\n",
    "from tqdm.notebook import tqdm\n",
    "import warnings\n",
    "warnings.filterwarnings(\"ignore\")\n",
    "from sklearn import metrics"
   ]
  },
  {
   "cell_type": "code",
   "execution_count": 2,
   "id": "421fe301-1ecd-4d6a-85fd-051dad3e8b1e",
   "metadata": {},
   "outputs": [],
   "source": [
    "#data_base = Path(\"shared/NSD\")\n",
    "data_base = Path(\"/home/jovyan/shared/NSD\")\n",
    "curr_subj = \"subj01\"\n",
    "subj_behav_file = data_base / f\"nsddata/ppdata/{curr_subj}/behav/responses.tsv\"\n",
    "subj_behav = pd.read_csv(subj_behav_file, delimiter=\"\\t\")"
   ]
  },
  {
   "cell_type": "code",
   "execution_count": 3,
   "id": "81f4a0f6-921b-485f-b5e8-186c7346d43f",
   "metadata": {},
   "outputs": [
    {
     "name": "stdout",
     "output_type": "stream",
     "text": [
      "Int64Index([    0,     1,     2,     3,     4,     5,     6,     7,     8,\n",
      "                9,\n",
      "            ...\n",
      "            27740, 27741, 27742, 27743, 27744, 27745, 27746, 27747, 27748,\n",
      "            27749],\n",
      "           dtype='int64', length=27739)\n"
     ]
    }
   ],
   "source": [
    "# add within session iteration indices\n",
    "for sess_id in range(1, 37+1):\n",
    "    subj_behav.loc[subj_behav[\"SESSION\"]==sess_id, \"INSESSIONIDX\"] = list(range(1, 750+1))\n",
    "    \n",
    "\n",
    "subj_behav_sel = subj_behav.dropna(subset=[\"BUTTON\"])\n",
    "subj_behav_sel = subj_behav_sel[~subj_behav_sel[\"SESSION\"].isin([38, 39, 40])]\n",
    "#print(len(subj_behav_sel))\n",
    "print(subj_behav_sel.index)\n"
   ]
  },
  {
   "cell_type": "code",
   "execution_count": 5,
   "id": "1279b61a-e6a3-42c6-9d79-2f1537282f35",
   "metadata": {},
   "outputs": [
    {
     "name": "stdout",
     "output_type": "stream",
     "text": [
      "(27750, 345)\n"
     ]
    }
   ],
   "source": [
    "\n",
    "\n",
    "# take the first saved data\n",
    "betas = np.load(\"./nsd-data/MTL-1_full.npy\")\n",
    "\n",
    "print(betas.shape)\n",
    "\n"
   ]
  },
  {
   "cell_type": "code",
   "execution_count": 6,
   "id": "e2f91afb-17be-4bf5-9e35-66cc39d8fc27",
   "metadata": {},
   "outputs": [
    {
     "name": "stdout",
     "output_type": "stream",
     "text": [
      "(27739, 345)\n"
     ]
    }
   ],
   "source": [
    "\n",
    "\n",
    "X = betas[subj_behav_sel.index, :] / 300\n",
    "y = subj_behav_sel[\"ISOLDCURRENT\"].to_numpy()\n",
    "\n",
    "print(X.shape)"
   ]
  },
  {
   "cell_type": "markdown",
   "id": "2f327329-3fab-4267-bfa1-324aac55d2f5",
   "metadata": {},
   "source": [
    "# The code above for dataset loading can be reused directly for 1D-CNN."
   ]
  },
  {
   "cell_type": "code",
   "execution_count": 7,
   "id": "072dbf1e-b9b8-49ed-b8f8-0973f60059b3",
   "metadata": {},
   "outputs": [
    {
     "name": "stdout",
     "output_type": "stream",
     "text": [
      "(27739, 345)\n"
     ]
    }
   ],
   "source": [
    "X = X.reshape(X.shape[0], -1)\n",
    "print(X.shape) # flattened version"
   ]
  },
  {
   "cell_type": "code",
   "execution_count": 8,
   "id": "5890105e-e0b3-401d-9841-f0ca9fd63409",
   "metadata": {},
   "outputs": [],
   "source": [
    "\n",
    "\n",
    "from sklearn.model_selection import train_test_split\n",
    "from sklearn.svm import LinearSVC\n",
    "from sklearn.metrics import confusion_matrix, classification_report\n",
    "\n"
   ]
  },
  {
   "cell_type": "code",
   "execution_count": 9,
   "id": "e11bb116-2d04-4a0e-b1ac-2888ec0ddeb0",
   "metadata": {},
   "outputs": [],
   "source": [
    "\n",
    "\n",
    "X_train, X_test, y_train, y_test = train_test_split(X, y, test_size=0.33, random_state=42)\n"
   ]
  },
  {
   "cell_type": "code",
   "execution_count": 10,
   "id": "d807f920-31b6-495a-b574-12c759fcf815",
   "metadata": {},
   "outputs": [
    {
     "name": "stdout",
     "output_type": "stream",
     "text": [
      "[LibLinear]....................................................................................................\n",
      "optimization finished, #iter = 1000\n",
      "\n",
      "WARNING: reaching max number of iterations\n",
      "Using -s 2 may be faster (also see FAQ)\n",
      "\n",
      "Objective value = -1179.304383\n",
      "nSV = 18543\n"
     ]
    }
   ],
   "source": [
    "\n",
    "\n",
    "svc = LinearSVC(class_weight=\"balanced\", verbose=10)\n",
    "svc.fit(X_train, y_train)\n",
    "y_pred = svc.predict(X_test)\n",
    "\n"
   ]
  },
  {
   "cell_type": "code",
   "execution_count": 11,
   "id": "8ed4fc11-4e7a-4804-8f0d-0586e2713d87",
   "metadata": {},
   "outputs": [
    {
     "data": {
      "text/plain": [
       "array([[5235, 1761],\n",
       "       [1537,  621]])"
      ]
     },
     "execution_count": 11,
     "metadata": {},
     "output_type": "execute_result"
    }
   ],
   "source": [
    "\n",
    "\n",
    "conf_mat = confusion_matrix(y_test, y_pred)\n",
    "conf_mat\n",
    "\n"
   ]
  },
  {
   "cell_type": "code",
   "execution_count": 12,
   "id": "8037f30c-5341-4d72-a94e-8d139aeb4e53",
   "metadata": {},
   "outputs": [
    {
     "data": {
      "text/plain": [
       "{'0': {'precision': 0.7730360307147076,\n",
       "  'recall': 0.7482847341337907,\n",
       "  'f1-score': 0.760459035444509,\n",
       "  'support': 6996},\n",
       " '1': {'precision': 0.2607052896725441,\n",
       "  'recall': 0.28776645041705284,\n",
       "  'f1-score': 0.273568281938326,\n",
       "  'support': 2158},\n",
       " 'accuracy': 0.6397203408346078,\n",
       " 'macro avg': {'precision': 0.5168706601936258,\n",
       "  'recall': 0.5180255922754218,\n",
       "  'f1-score': 0.5170136586914175,\n",
       "  'support': 9154},\n",
       " 'weighted avg': {'precision': 0.6522571647360109,\n",
       "  'recall': 0.6397203408346078,\n",
       "  'f1-score': 0.6456774922867262,\n",
       "  'support': 9154}}"
      ]
     },
     "execution_count": 12,
     "metadata": {},
     "output_type": "execute_result"
    }
   ],
   "source": [
    "classification_report(y_test, y_pred, output_dict=True)"
   ]
  },
  {
   "cell_type": "code",
   "execution_count": 13,
   "id": "ee50bfbc-9860-4a2b-ac80-5230a8ec5c09",
   "metadata": {},
   "outputs": [
    {
     "data": {
      "image/png": "[encoded data removed]",
      "text/plain": [
       "<Figure size 432x288 with 1 Axes>"
      ]
     },
     "metadata": {
      "needs_background": "light"
     },
     "output_type": "display_data"
    }
   ],
   "source": [
    "fpr, tpr, thresholds = metrics.roc_curve(y_test, y_pred, pos_label=1)\n",
    "roc_auc = metrics.auc(fpr, tpr)\n",
    "display = metrics.RocCurveDisplay(fpr=fpr, tpr=tpr, roc_auc=roc_auc,estimator_name='example estimator')\n",
    "display.plot()\n",
    "plt.show()"
   ]
  },
  {
   "cell_type": "code",
   "execution_count": null,
   "id": "8036954c-a8f9-429c-baf6-e7346d53625f",
   "metadata": {},
   "outputs": [],
   "source": []
  }
 ],
 "metadata": {
  "kernelspec": {
   "display_name": "Python 3 (ipykernel)",
   "language": "python",
   "name": "python3"
  },
  "language_info": {
   "codemirror_mode": {
    "name": "ipython",
    "version": 3
   },
   "file_extension": ".py",
   "mimetype": "text/x-python",
   "name": "python",
   "nbconvert_exporter": "python",
   "pygments_lexer": "ipython3",
   "version": "3.7.12"
  }
 },
 "nbformat": 4,
 "nbformat_minor": 5
}
